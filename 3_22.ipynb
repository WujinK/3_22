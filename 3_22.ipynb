{
 "cells": [
  {
   "cell_type": "code",
   "execution_count": 1,
   "metadata": {},
   "outputs": [
    {
     "name": "stdout",
     "output_type": "stream",
     "text": [
      "hello\n"
     ]
    }
   ],
   "source": [
    "'''\n",
    "클래스는 설계도, 객체 복사본\n",
    "호출한 주체를 작성해줘야한다.\n",
    "\n",
    "'''"
   ]
  },
  {
   "cell_type": "code",
   "execution_count": 16,
   "metadata": {},
   "outputs": [
    {
     "name": "stdout",
     "output_type": "stream",
     "text": [
      "안녕하세요 27살 홍길동입니다.\n",
      "안녕하세요 25살 홍길순입니다.\n",
      "하얀색 소나타이/가 100km로 달립니다.\n",
      "검정색 모닝이/가 70km로 달립니다.\n",
      "4살 러시안블루 고양이 아리가 야옹하고 웁니다.\n",
      "6살 샴 고양이 망고가 야옹하고 웁니다.\n",
      "이름 : 이순신, 공격력 : 20, 방어력 : 10\n",
      "이름 : 강감찬, 공격력 : 15, 방어력 : 15\n",
      "이순신이 20의 데미지를 입힙니다.\n",
      "강감찬이 15의 데미지를 입힙니다.\n",
      "이순신이 10 데미지를 방어합니다.\n",
      "강감찬이 15 데미지를 방어합니다.\n"
     ]
    }
   ],
   "source": [
    "# 다음 코드가 동작하도록 class를 완성해주세요\n",
    "\n",
    "class Person :\n",
    "    def __init__(self, name, age) :\n",
    "        self.name = name\n",
    "        self.age = age\n",
    "    def introduce(self) :\n",
    "        print(\"안녕하세요 {}살 {}입니다.\".format(self.age, self.name))\n",
    "\n",
    "p1 = Person(\"홍길동\", 27)\n",
    "p2 = Person(\"홍길순\", 25)\n",
    "\n",
    "p1.introduce() # 안녕하세요 27살 홍길동입니다.\n",
    "p2.introduce() # 안녕하세요 25살 홍길순입니다.\n",
    "\n",
    "class Car :\n",
    "    def __init__(self, kind, color, s) :\n",
    "        self.kind = kind\n",
    "        self.color = color\n",
    "        self.s = s\n",
    "    def drive(self) :\n",
    "        print(\"{} {}이/가 {}km로 달립니다.\".format(self.color, self.kind, self.s))\n",
    "\n",
    "c1 = Car(\"소나타\", \"하얀색\", 100)\n",
    "c2 = Car(\"모닝\", \"검정색\", 70)\n",
    "\n",
    "c1.drive() # 하얀색 소나타이/가 100km로 달립니다.\n",
    "c2.drive() # 검정색 모닝이/가 70km로 달립니다.\n",
    "\n",
    "class Cat :\n",
    "    def __init__(self, name, species, age) :\n",
    "        self.name = name \n",
    "        self.species = species\n",
    "        self.age = age\n",
    "    def meow(self) :\n",
    "        print(\"{}살 {} 고양이 {}가 야옹하고 웁니다.\".format(self.age, self.species, self.name))\n",
    "\n",
    "cat1 = Cat(\"아리\", \"러시안블루\", 4)\n",
    "cat2 = Cat(\"망고\", \"샴\", 6)\n",
    "\n",
    "cat1.meow() # 4살 러시안블루 고양이 아리가 야옹하고 웁니다.\n",
    "cat2.meow() # 6살 샴 고양이 망고가 야옹하고 웁니다.\n",
    "\n",
    "class Warrior :\n",
    "    def __init__(self,name, power, no) :\n",
    "        self.name = name\n",
    "        self.power = power \n",
    "        self.no = no\n",
    "    def status(self) :\n",
    "        print(\"이름 : {}, 공격력 : {}, 방어력 : {}\".format(self.name, self.power, self.no))\n",
    "    def attack(self):\n",
    "        print(\"{}이 {}의 데미지를 입힙니다.\".format(self.name, self.power))\n",
    "    def defense(self) :\n",
    "        print(\"{}이 {} 데미지를 방어합니다.\".format(self.name, self.no))\n",
    "\n",
    "w1 = Warrior(\"이순신\", 20, 10)\n",
    "w2 = Warrior(\"강감찬\", 15, 15)\n",
    "\n",
    "w1.status() # 이름 : 이순신, 공격력 : 20, 방어력 : 10 \n",
    "w2.status() # 이름 : 강감찬, 공격력 : 15, 방어력 : 15 \n",
    "\n",
    "w1.attack() # 이순신이 20의 데미지를 입힙민다.\n",
    "w2.attack() # 강감찬이 15의 데미지를 입힙민다. \n",
    "\n",
    "w1.defense() # 이순신이 10 데미지를 방어합니다.\n",
    "w2.defense() # 강감찬이 15 데미지를 방어합니다.\n",
    "\n"
   ]
  },
  {
   "cell_type": "code",
   "execution_count": 17,
   "metadata": {},
   "outputs": [],
   "source": [
    "# 모듈 불러올 땐 import 사용"
   ]
  },
  {
   "cell_type": "code",
   "execution_count": 19,
   "metadata": {},
   "outputs": [
    {
     "data": {
      "text/plain": [
       "'모듈에 있는 첫번째 함수 입니다.'"
      ]
     },
     "execution_count": 19,
     "metadata": {},
     "output_type": "execute_result"
    }
   ],
   "source": [
    "# import ex1\n",
    "# ex1.func1()\n",
    "\n"
   ]
  },
  {
   "cell_type": "code",
   "execution_count": 21,
   "metadata": {},
   "outputs": [
    {
     "data": {
      "text/plain": [
       "'모듈의 첫번째 함수입니다'"
      ]
     },
     "execution_count": 21,
     "metadata": {},
     "output_type": "execute_result"
    }
   ],
   "source": [
    "# import ex2\n",
    "# ex2.func1()\n"
   ]
  },
  {
   "cell_type": "code",
   "execution_count": 26,
   "metadata": {},
   "outputs": [
    {
     "name": "stdout",
     "output_type": "stream",
     "text": [
      "['c:\\\\py_wj', 'C:\\\\Users\\\\samsung\\\\AppData\\\\Local\\\\Programs\\\\Python\\\\Python310\\\\python310.zip', 'C:\\\\Users\\\\samsung\\\\AppData\\\\Local\\\\Programs\\\\Python\\\\Python310\\\\DLLs', 'C:\\\\Users\\\\samsung\\\\AppData\\\\Local\\\\Programs\\\\Python\\\\Python310\\\\lib', 'C:\\\\Users\\\\samsung\\\\AppData\\\\Local\\\\Programs\\\\Python\\\\Python310', '', 'C:\\\\Users\\\\samsung\\\\AppData\\\\Roaming\\\\Python\\\\Python310\\\\site-packages', 'C:\\\\Users\\\\samsung\\\\AppData\\\\Roaming\\\\Python\\\\Python310\\\\site-packages\\\\win32', 'C:\\\\Users\\\\samsung\\\\AppData\\\\Roaming\\\\Python\\\\Python310\\\\site-packages\\\\win32\\\\lib', 'C:\\\\Users\\\\samsung\\\\AppData\\\\Roaming\\\\Python\\\\Python310\\\\site-packages\\\\Pythonwin', 'C:\\\\Users\\\\samsung\\\\AppData\\\\Local\\\\Programs\\\\Python\\\\Python310\\\\lib\\\\site-packages', 'C:\\\\py_wj', 'C:\\\\py_wj', 'C:\\\\py_wj']\n",
      "모듈의 두번째 함수 입니다.\n",
      "모듈의 첫번째 함수입니다\n"
     ]
    },
    {
     "data": {
      "text/plain": [
       "<function ex2.func1()>"
      ]
     },
     "execution_count": 26,
     "metadata": {},
     "output_type": "execute_result"
    }
   ],
   "source": [
    "# import sys\n",
    "# print(sys.path)\n",
    "# sys.path.append('C:\\py_wj')\n",
    "# import ex2\n",
    "# print(ex2.func2())\n",
    "# print(ex2.func1())\n"
   ]
  },
  {
   "cell_type": "code",
   "execution_count": 29,
   "metadata": {},
   "outputs": [
    {
     "name": "stdout",
     "output_type": "stream",
     "text": [
      "모듈의 첫번째 함수입니다\n"
     ]
    }
   ],
   "source": [
    "# from ex2 import func1,func2\n",
    "# print(ex2.func1)"
   ]
  },
  {
   "cell_type": "code",
   "execution_count": 40,
   "metadata": {},
   "outputs": [
    {
     "ename": "ImportError",
     "evalue": "cannot import name 'func3' from 'ex2' (c:\\py_wj\\ex2.py)",
     "output_type": "error",
     "traceback": [
      "\u001b[1;31m---------------------------------------------------------------------------\u001b[0m",
      "\u001b[1;31mImportError\u001b[0m                               Traceback (most recent call last)",
      "\u001b[1;32mc:\\py_wj\\3_22.ipynb Cell 8'\u001b[0m in \u001b[0;36m<cell line: 1>\u001b[1;34m()\u001b[0m\n\u001b[1;32m----> <a href='vscode-notebook-cell:/c%3A/py_wj/3_22.ipynb#ch0000007?line=0'>1</a>\u001b[0m \u001b[39mfrom\u001b[39;00m \u001b[39mex2\u001b[39;00m \u001b[39mimport\u001b[39;00m func3\n\u001b[0;32m      <a href='vscode-notebook-cell:/c%3A/py_wj/3_22.ipynb#ch0000007?line=1'>2</a>\u001b[0m \u001b[39mprint\u001b[39m(func2)\n",
      "\u001b[1;31mImportError\u001b[0m: cannot import name 'func3' from 'ex2' (c:\\py_wj\\ex2.py)"
     ]
    }
   ],
   "source": [
    "# from ex2 import func3\n",
    "# print(func2)"
   ]
  },
  {
   "cell_type": "code",
   "execution_count": 43,
   "metadata": {},
   "outputs": [
    {
     "ename": "ImportError",
     "evalue": "cannot import name 'func3' from 'ex2' (c:\\py_wj\\ex2.py)",
     "output_type": "error",
     "traceback": [
      "\u001b[1;31m---------------------------------------------------------------------------\u001b[0m",
      "\u001b[1;31mImportError\u001b[0m                               Traceback (most recent call last)",
      "\u001b[1;32mc:\\py_wj\\3_22.ipynb Cell 9'\u001b[0m in \u001b[0;36m<cell line: 1>\u001b[1;34m()\u001b[0m\n\u001b[1;32m----> <a href='vscode-notebook-cell:/c%3A/py_wj/3_22.ipynb#ch0000008?line=0'>1</a>\u001b[0m \u001b[39mfrom\u001b[39;00m \u001b[39mex2\u001b[39;00m \u001b[39mimport\u001b[39;00m func1, func3\n\u001b[0;32m      <a href='vscode-notebook-cell:/c%3A/py_wj/3_22.ipynb#ch0000008?line=1'>2</a>\u001b[0m \u001b[39mprint\u001b[39m(func3())\n",
      "\u001b[1;31mImportError\u001b[0m: cannot import name 'func3' from 'ex2' (c:\\py_wj\\ex2.py)"
     ]
    }
   ],
   "source": [
    "# from ex2 import func1, func3\n",
    "# print(func3())"
   ]
  },
  {
   "cell_type": "code",
   "execution_count": 54,
   "metadata": {},
   "outputs": [
    {
     "name": "stdout",
     "output_type": "stream",
     "text": [
      "C:\\py_wj\n",
      "C:\\py_wj\n",
      ".git\n",
      "3_22.ipynb\n",
      "ex2.py\n",
      "pytemp\n",
      "__pycache__\n"
     ]
    }
   ],
   "source": [
    "import os\n",
    "# 현재 디렉토리\n",
    "print(os.getcwd())\n",
    "# 경로 제일 마지막에 있는 폴더만 생성\n",
    "# os.mkdir(\"C:\\py_wj\\pytemp\")\n",
    "# os.makedirs 하위폴더까지 싹 다 만드는 것\n",
    "# os.makedirs(\"C:\\py_wj\\pytemp\\py1\\py2\")\n",
    "# os.chdir 이동하는 거\n",
    "os.chdir(\"C:\\py_wj\")\n",
    "print(os.getcwd())\n",
    "# os.listdir 파일과 목록 출력 (있는 파일들 모두)\n",
    "os.listdir(\"C:\\py_wj\")\n",
    "for i in os.listdir(\"C:\\py_wj\") :\n",
    "    print(i)\n"
   ]
  },
  {
   "cell_type": "code",
   "execution_count": 58,
   "metadata": {},
   "outputs": [
    {
     "name": "stdout",
     "output_type": "stream",
     "text": [
      "True\n",
      "False\n"
     ]
    }
   ],
   "source": [
    "# 특정폴더있는지 존재여부 확인해줌\n",
    "print(os.path.exists(\"C:\\py_wj\"))\n",
    "print(os.path.exists(\"C:\\py_wj1\"))"
   ]
  },
  {
   "cell_type": "code",
   "execution_count": 59,
   "metadata": {},
   "outputs": [],
   "source": [
    "# 폴더 삭제하는 함수\n",
    "'''==v1=='''\n",
    "# rmdir() //맨 마지막 폴더만\n",
    "os.rmdir(\"C:\\py_wj\\pytemp\\py1\\py2\")\n",
    "'''==v2=='''\n",
    "# removedirs() // 작성한 폴더 모두 한 번에 삭제\n",
    "\n",
    "# //두명령어 모두 삭제할 폴더가 비어있어야한다.\n",
    "\n"
   ]
  },
  {
   "cell_type": "code",
   "execution_count": 62,
   "metadata": {},
   "outputs": [],
   "source": [
    "os.makedirs(\"C:\\py_wj1\\pytemp\\py1\\py2\")"
   ]
  },
  {
   "cell_type": "code",
   "execution_count": 63,
   "metadata": {},
   "outputs": [],
   "source": [
    "os.removedirs(\"C:\\py_wj1\\pytemp\\py1\\py2\")"
   ]
  },
  {
   "cell_type": "code",
   "execution_count": null,
   "metadata": {},
   "outputs": [],
   "source": []
  }
 ],
 "metadata": {
  "interpreter": {
   "hash": "09b25c1277af6cbaadea7e567f3002bf19747c2245975db34db00b5cd5ef25e8"
  },
  "kernelspec": {
   "display_name": "Python 3.10.2 64-bit",
   "language": "python",
   "name": "python3"
  },
  "language_info": {
   "codemirror_mode": {
    "name": "ipython",
    "version": 3
   },
   "file_extension": ".py",
   "mimetype": "text/x-python",
   "name": "python",
   "nbconvert_exporter": "python",
   "pygments_lexer": "ipython3",
   "version": "3.10.2"
  },
  "orig_nbformat": 4
 },
 "nbformat": 4,
 "nbformat_minor": 2
}
